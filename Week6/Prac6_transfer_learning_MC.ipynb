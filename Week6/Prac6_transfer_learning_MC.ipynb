{
 "cells": [
  {
   "cell_type": "markdown",
   "metadata": {},
   "source": [
    "# Week 6: Transfer learning\n",
    "\n",
    "\n",
    "\n"
   ]
  },
  {
   "cell_type": "markdown",
   "metadata": {},
   "source": [
    "### Transfer learning\n",
    "\n",
    "Reference: [Machine Learning Mastery](https://machinelearningmastery.com/how-to-use-transfer-learning-when-developing-convolutional-neural-network-models/)\n",
    "\n",
    "- Transfer learning is a way to speed up the training process by re-using model weights that were learned using standard computer vision benchmark datasets. \n",
    "- Transfer learning uses models trained on a similar problem as a starting point for another related problem e.g.  useful when the input to the model is the same (e.g. images), but the classification problem is different e.g., a model trained to classify penguins vs swans may be applied to a cats vs dogs setting. \n",
    "- Transfer learning decreases training time. \n",
    "\n",
    "#### Image Recognition using Transfer Learning\n",
    "\n",
    "- We can access pre-trained models and model weights for transfer learning via the [Keras Application API](https://keras.io/api/applications/)\n",
    "- These models can be used as the basis for transfer learning in computer viosions applications because:\n",
    "    - They have been pre-trained to extract generic features from photographs\n",
    "    - They have state of the art performance\n",
    "    - They are easily accessible \n",
    "\n",
    "\n",
    "#### Data \n",
    "\n",
    "- We will use the dogs and cats data that we used in weeks 4 and 5. \n",
    "- First, we get the data and save in the local notebook instance. \n",
    "- As per weeks 4 and 5, we will unzip the data, format the directories and create a valisdation dataset in the local instance.\n",
    "- The code below was run on an **ml_p2_xlarge EC2 instance**\n",
    "- The next 5 cells should be run in the terminal in jupyterlab (notified by a !)"
   ]
  },
  {
   "cell_type": "code",
   "execution_count": null,
   "metadata": {},
   "outputs": [],
   "source": [
    "! unzip dogs-vs-cats.zip\n",
    "! unzip train.zip"
   ]
  },
  {
   "cell_type": "code",
   "execution_count": null,
   "metadata": {},
   "outputs": [],
   "source": [
    "! cd train \n",
    "! mkdir dog cat\n",
    "! find . -name 'dog.*' -exec mv {} dog \\;\n",
    "! find . -name 'cat.*' -exec mv {} cat \\;"
   ]
  },
  {
   "cell_type": "code",
   "execution_count": null,
   "metadata": {},
   "outputs": [],
   "source": [
    "! cd .."
   ]
  },
  {
   "cell_type": "code",
   "execution_count": null,
   "metadata": {},
   "outputs": [],
   "source": [
    "! mkdir -p val/dog val/cat #make dog and cat directories in val\n",
    "! ls train/dog | sort -R |tail -5000 | while read file; do mv train/dog/$file val/dog; done\n",
    "! ls train/cat | sort -R |tail -5000 | while read file; do mv train/cat/$file val/cat; done"
   ]
  },
  {
   "cell_type": "code",
   "execution_count": 14,
   "metadata": {},
   "outputs": [
    {
     "name": "stdout",
     "output_type": "stream",
     "text": [
      "2.42.1\n"
     ]
    }
   ],
   "source": [
    "import sagemaker #import sagemaker\n",
    "print(sagemaker.__version__) #print the sagemaker version\n",
    "sess = sagemaker.Session() ### Manages interactions with the Amazon SageMaker APIs and \n",
    "                           ### any other AWS services needed e.g. S3\n",
    "role = sagemaker.get_execution_role() ### Get and save the IAM role as environment variable"
   ]
  },
  {
   "cell_type": "code",
   "execution_count": 15,
   "metadata": {},
   "outputs": [],
   "source": [
    "# vgg16 model used for transfer learning on the dogs and cats dataset\n",
    "import sys\n",
    "import os\n",
    "import keras\n",
    "from matplotlib import pyplot\n",
    "from keras.applications.vgg16 import VGG16\n",
    "from keras.models import Model\n",
    "from keras.layers import Dense\n",
    "from keras.layers import Flatten\n",
    "from keras.optimizers import SGD\n",
    "from keras.preprocessing.image import ImageDataGenerator"
   ]
  },
  {
   "cell_type": "markdown",
   "metadata": {},
   "source": [
    "#### Using pre-trained VGG16 model \n",
    "\n",
    "- The VGG16 model was trained on a ImageNet challenge dataset.\n",
    "- The input images have a shape 224 x224 pixels.\n",
    "\n",
    "More details are  https://keras.io/api/applications/\n",
    "\n",
    "![VGG structure](VGG.png)"
   ]
  },
  {
   "cell_type": "markdown",
   "metadata": {},
   "source": [
    "- For this example of transfer learning, we will hold the weights of all of the convolutional layers fixed during training, and only train new fully connected layers that are for image classification. \n",
    "    - Note that transfer learning is very flexible in terms of: \n",
    "    - which layers we keep \n",
    "    - whether we fix the weights of use them as a starting point\n",
    "- Here, we will loading the VGG-16 model, removing the fully connected layers from the output-end of the model, then adding the new fully connected layers to make a binary prediction. \n",
    "- So, we are using the we may wish to use the VGG16 model layers, and adding and training new layers of the model without updating the weights of the VGG16 layers. This means that the new output layers to learn to interpret the pre-learned features of the VGG16 model.\n",
    "- It will take approximately 20 minutes to run\n",
    "\n",
    "\n",
    "#### Step 1: Load the model \n",
    "- The first step is to load the model using the Keras API. IN this case we will use the VGG16 model called using the ```VGG16``` function Arguments to consider: \n",
    "\n",
    "    1. **include_top**: whether to include the 3 fully-connected layers at the top of the network that are used to make predictions. We won't include one, allowing a new fully connected output layer to be added and trained. \n",
    "    2. **input_shape**: optional shape tuple, only to be specified if include_top is False (otherwise the input shape has to be (224, 224, 3) (with channels_last data format) or (3, 224, 224) (with channels_first data format). It should have exactly 3 input channels, and width and height should be no smaller than 32. E.g. (200, 200, 3) would be one valid value.\n",
    "    3. **weights**: one of None (random initialization), 'imagenet' (pre-training on ImageNet), or the path to the weights file to be loaded.\n",
    "    4. **classes**: optional number of classes to classify images into, only to be specified if include_top is True, and if no weights argument is specified.\n",
    "    5. **classifier_activation**: A str or callable. The activation function to use on the \"top\" layer. Ignored unless include_top=True. Set classifier_activation=None to return the logits of the \"top\" layer. When loading pretrained weights, classifier_activation can only be None or \"softmax\".\n",
    "\n",
    "- Next, we **define which layers are trainable** - we are going to keep the weights of the VGG16 model untrainable. This is achived by setting  defining the ```trainable``` property as ```False```. \n",
    "\n",
    "- We then add the new classification layers. We first flatten the output of the last pooling layer of the VGG16 model, and add fully connected, dense layers. \n",
    "\n",
    "- We then compile the new layers but selected a optimiser, a loss function and which metrics to assess performance by. \n",
    "\n",
    "#### Step 2: Define plots\n",
    "\n",
    "The next section of code defines how the results will be plotted - it will generate 2 graphs, one that shows loss and one that shows accuracy. Results on the training data are showed in blue, and results on the validation data are shown in orange. \n",
    "\n",
    "\n",
    "### Step 3: Train the model\n",
    "\n",
    "- The final section of code is to train the model. \n",
    "- Before training, we need to prepare the data so it is in the correct format for the VGG16 model. \n",
    "    - The model also expects images mean centered - *i.e.* to have the mean pixel values from each channel (red, green, and blue) as calculated on the ImageNet training dataset subtracted from the input.\n",
    "    - We can do this using ```ImageDataGenerator``` by setting the “featurewise_center” argument to “True” and manually specifying the mean pixel values to use when centering as the mean values from the ImageNet training dataset: [123.68, 116.779, 103.939].\n"
   ]
  },
  {
   "cell_type": "code",
   "execution_count": 16,
   "metadata": {},
   "outputs": [
    {
     "name": "stdout",
     "output_type": "stream",
     "text": [
      "Found 15000 images belonging to 2 classes.\n",
      "Found 10000 images belonging to 2 classes.\n",
      "Epoch 1/5\n",
      "235/235 [==============================] - 214s 912ms/step - loss: 5.6754 - acc: 0.6449 - val_loss: 0.5502 - val_acc: 0.9606\n",
      "Epoch 2/5\n",
      "235/235 [==============================] - 214s 911ms/step - loss: 0.5395 - acc: 0.9606 - val_loss: 0.3703 - val_acc: 0.9716\n",
      "Epoch 3/5\n",
      "235/235 [==============================] - 214s 912ms/step - loss: 0.2132 - acc: 0.9752 - val_loss: 0.0722 - val_acc: 0.9740\n",
      "Epoch 4/5\n",
      "235/235 [==============================] - 213s 907ms/step - loss: 0.0440 - acc: 0.9868 - val_loss: 0.0902 - val_acc: 0.9689\n",
      "Epoch 5/5\n",
      "235/235 [==============================] - 214s 913ms/step - loss: 0.0167 - acc: 0.9963 - val_loss: 0.0734 - val_acc: 0.9751\n",
      "> 97.480\n"
     ]
    },
    {
     "data": {
      "image/png": "[encoded data removed]",
      "text/plain": [
       "<Figure size 432x288 with 2 Axes>"
      ]
     },
     "metadata": {
      "needs_background": "light"
     },
     "output_type": "display_data"
    }
   ],
   "source": [
    "\n",
    "def define_model():\n",
    "\t# load model\n",
    "\tmodel = VGG16(include_top=False, input_shape=(224, 224, 3))\n",
    "\t# mark loaded layers as not trainable\n",
    "\tfor layer in model.layers:\n",
    "\t\tlayer.trainable = False\n",
    "\t# add new classifier layers\n",
    "\tflat1 = Flatten()(model.layers[-1].output)\n",
    "\tclass1 = Dense(128, activation='relu', kernel_initializer='he_uniform')(flat1)\n",
    "\toutput = Dense(1, activation='sigmoid')(class1)\n",
    "\t# define new model\n",
    "\tmodel = Model(inputs=model.inputs, outputs=output)\n",
    "\t# compile model\n",
    "\topt = SGD(lr=0.001, momentum=0.9)\n",
    "\tmodel.compile(optimizer=opt, loss='binary_crossentropy', metrics=['accuracy'])\n",
    "\treturn model\n",
    "\n",
    "# plot diagnostic learning curves\n",
    "def summarize_diagnostics(history):\n",
    "\t# plot loss\n",
    "\tpyplot.subplot(211)\n",
    "\tpyplot.title('Cross Entropy Loss')\n",
    "\tpyplot.plot(history.history['loss'], color='blue', label='train')\n",
    "\tpyplot.plot(history.history['val_loss'], color='orange', label='test')\n",
    "\t# plot accuracy\n",
    "\tpyplot.subplot(212)\n",
    "\tpyplot.title('Classification Accuracy')\n",
    "\tpyplot.plot(history.history['acc'], color='blue', label='train')\n",
    "\tpyplot.plot(history.history['val_acc'], color='orange', label='test')\n",
    "\t# save plot to file\n",
    "\tfilename = sys.argv[0].split('/')[-1]\n",
    "\tpyplot.savefig(filename + '_plot.png')\n",
    "\n",
    "# Training\n",
    "# define model\n",
    "model = define_model()\n",
    "# create data generator\n",
    "datagen = ImageDataGenerator(featurewise_center=True)\n",
    "# specify imagenet mean values for centering\n",
    "datagen.mean = [123.68, 116.779, 103.939]\n",
    "# prepare iterator\n",
    "train_model = datagen.flow_from_directory('train/',class_mode='binary', batch_size=64, target_size=(224, 224))\n",
    "test_model = datagen.flow_from_directory('val/',class_mode='binary', batch_size=64, target_size=(224, 224))\n",
    "# fit model\n",
    "history = model.fit_generator(train_model, steps_per_epoch=len(train_model),validation_data=test_model, validation_steps=len(test_model), epochs=5, verbose=1)\n",
    "# evaluate model\n",
    "_, acc = model.evaluate_generator(test_model, steps=len(test_model), verbose=0)\n",
    "print('> %.3f' % (acc * 100.0))\n",
    "# learning curves\n",
    "summarize_diagnostics(history)\n"
   ]
  },
  {
   "cell_type": "markdown",
   "metadata": {},
   "source": [
    "Notice that the accuracy is relatively high for the valuation dataset 97.48%\n",
    "\n",
    "\n",
    "**Note:** More computations efficient and cost saving to modify the above code into a script, and use SageMaker in Script-mode to train the model. Try this for your **homework**.  "
   ]
  },
  {
   "cell_type": "markdown",
   "metadata": {},
   "source": [
    "### Train model using built-in CV algorithm for RecordIO files in SageMaker"
   ]
  },
  {
   "cell_type": "markdown",
   "metadata": {},
   "source": [
    "Similar to last week, except that **use_pretrained_network** is set equal to 1. The final fully connected layer of pretrained RESET model will be reized to the number of classes in the dataset. \n",
    "\n",
    "**Note:** Not as flexible but an option if you are less confident. "
   ]
  },
  {
   "cell_type": "code",
   "execution_count": null,
   "metadata": {},
   "outputs": [],
   "source": [
    "ic.set_hyperparameters(num_layers=18,               # 18 layers\n",
    "                       use_pretrained_model=1,      # Train from scratch\n",
    "                       num_classes=2,               # Dogs and cats\n",
    "                       num_training_samples=22500,  # Number of training samples\n",
    "                       mini_batch_size=128,\n",
    "                       epochs=5)  "
   ]
  }
 ],
 "metadata": {
  "kernelspec": {
   "display_name": "Python 3",
   "language": "python",
   "name": "python3"
  },
  "language_info": {
   "codemirror_mode": {
    "name": "ipython",
    "version": 3
   },
   "file_extension": ".py",
   "mimetype": "text/x-python",
   "name": "python",
   "nbconvert_exporter": "python",
   "pygments_lexer": "ipython3",
   "version": "3.8.5"
  }
 },
 "nbformat": 4,
 "nbformat_minor": 4
}
